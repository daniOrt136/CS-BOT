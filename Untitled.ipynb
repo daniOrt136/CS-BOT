{
 "cells": [
  {
   "cell_type": "code",
   "execution_count": 1,
   "id": "9021ceaf",
   "metadata": {},
   "outputs": [],
   "source": [
    "import pyhdb\n",
    "import datetime\n",
    "from datetime import timedelta\n",
    "import pandas as pd\n",
    "from openpyxl.styles import Font, Color, PatternFill, Protection, Alignment, Border, Side\n",
    "from openpyxl.worksheet.datavalidation import DataValidation\n",
    "import os\n",
    "import openpyxl as xl\n",
    "\n",
    "\n",
    "path = 'C:/Development/Automation-tools/SC-CUSBot/'\n",
    "\n",
    "#Reading external files\n",
    "df= pd.read_excel('{}/DISC.xlsx'.format(path),engine='openpyxl')\n",
    "\n"
   ]
  },
  {
   "cell_type": "code",
   "execution_count": 34,
   "id": "5f2e300c",
   "metadata": {},
   "outputs": [],
   "source": [
    "for i, row in df.iterrows():\n",
    "    if ',' in str(row['u_po_line']):\n",
    "        lines=str(row['u_po_line']).split(',')\n",
    "        for j in range(0,len(lines)):\n",
    "            if j>0:\n",
    "                df = df.append({'number': row['number'], 'short_description': row['short_description'],'contact': row['contact'],'u_supplier_name_case': row['u_supplier_name_case'],\n",
    "                               'u_po_number_text': row['u_po_number_text'],'u_po_line': lines[j].strip(),'assigned_to': row['assigned_to'],'assignment_group': row['assignment_group'],\n",
    "                               'u_catalog_item': row['u_catalog_item'],'u_sub_case_type': row['u_sub_case_type'],'sys_created_on': row['sys_created_on'],'sys_created_by': row['sys_created_by'],\n",
    "                               'u_po_geounit': row['u_po_geounit'],'u_po_geounit_country': row['u_po_geounit_country'],'resolved_at': row['resolved_at'],'impact': row['impact'],}, ignore_index=True)\n",
    "            else:\n",
    "                df.at[i,'u_po_line']=lines[j].strip()"
   ]
  },
  {
   "cell_type": "code",
   "execution_count": 2,
   "id": "9595ae9d",
   "metadata": {},
   "outputs": [
    {
     "data": {
      "text/plain": [
       "\"('3001647623', '3001652580', '3001645008', '3001660328', '3001646338', '3001633990', '3001638782', '3001634896', '3001637254', '3001641976', '3001633418', '3001652774', '3001629960', '3001635070', '3001652613', '3001643749', '3001642290', '3001645108', '3001634798', '3001638231', '3001642217', '3001660303', '3001637714', '3001642244', '3001659640', '3001660372', '3001635049', '3001642263', '3001642227', '3001633482', '3001642237', '3001634799', '3001637805', '3001629999', '3001633532', '3001651733', '3001659134', '3001660340', '3001644314', '3001629942', '3001637521', '3001642029', '3001635180', '3001633636', '3001640869', '3001659011', '3001626977', '3001629041', '3001634982', '3001659494', '3001656158', '3001642247', '3001638159', '3001659093', '3001648772', '3001662698', '3001652776', '3001642253', '3001659158', '3001642272', '3001652623', '3001659602', '3001642264', '3001659500', '3001634107', '3001643959')\""
      ]
     },
     "execution_count": 2,
     "metadata": {},
     "output_type": "execute_result"
    }
   ],
   "source": [
    "pos =df['SC'].to_string(index=False).split('\\n')\n",
    "pos = list(set(pos))\n",
    "pos1 = [x.strip(' ') for x in pos]\n",
    "poString =\"('\"+ \"', '\".join(pos1)+\"')\"\n",
    "poString"
   ]
  },
  {
   "cell_type": "code",
   "execution_count": 9,
   "id": "60caf407",
   "metadata": {},
   "outputs": [],
   "source": [
    "pos =df['SC'].to_string(index=False).split('\\n')\n",
    "pos = list(set(pos))\n",
    "pos1 = [x.strip(' ') for x in pos]\n",
    "poString =\"('\"+ \"', '\".join(pos1)+\"')\"\n",
    "\n",
    "#from hdbcli import dbapiGive\n",
    "from hdbcli import dbapi\n",
    "connection = dbapi.connect(address=\"sapw1pdb00.dir.slb.com\",port=30015, user=\"LABOT\", password=\"kC-mcLArs8b3E\")\n",
    "#connection = pyhdb.connect(host=\"sapw1pdb00.dir.slb.com\",port=30015, user=\"LABOT\",password=\"kC-mcLArs8b3E\")\n",
    "cursor = connection.cursor()\n",
    "query=\"SELECT * \"\n",
    "query= query + \"FROM \\\"_SYS_BIC\\\".\\\"slb.bi.sup.rpt/SUP_RPT_SRM_SHOPPINGCART\\\" \"\n",
    "query= query + \"WHERE H_OBJECT_ID IN \" + poString\n",
    "cursor.execute(query)\n",
    "MyList=(cursor.fetchall())\n",
    "res = pd.DataFrame(MyList)\n",
    "res = res.rename(columns={\n",
    "    0:'PO Num',\n",
    "    1:'PO Line'})"
   ]
  },
  {
   "cell_type": "code",
   "execution_count": 36,
   "id": "cb45619d",
   "metadata": {},
   "outputs": [
    {
     "name": "stderr",
     "output_type": "stream",
     "text": [
      "C:\\Users\\DOrtiz10\\AppData\\Local\\Temp/ipykernel_17888/177621821.py:2: SettingWithCopyWarning: \n",
      "A value is trying to be set on a copy of a slice from a DataFrame.\n",
      "Try using .loc[row_indexer,col_indexer] = value instead\n",
      "\n",
      "See the caveats in the documentation: https://pandas.pydata.org/pandas-docs/stable/user_guide/indexing.html#returning-a-view-versus-a-copy\n",
      "  df1['PO-Line']=df['u_po_number_text'].astype(str)+\"-\" +df['u_po_line'].astype(str)\n",
      "C:\\Users\\DOrtiz10\\AppData\\Local\\Temp/ipykernel_17888/177621821.py:7: SettingWithCopyWarning: \n",
      "A value is trying to be set on a copy of a slice from a DataFrame.\n",
      "Try using .loc[row_indexer,col_indexer] = value instead\n",
      "\n",
      "See the caveats in the documentation: https://pandas.pydata.org/pandas-docs/stable/user_guide/indexing.html#returning-a-view-versus-a-copy\n",
      "  df2['u_po_number_text']=df2['u_po_number_text'].astype(str)\n"
     ]
    }
   ],
   "source": [
    "df1=df[~pd.isna(df['u_po_line'])]\n",
    "df1['PO-Line']=df['u_po_number_text'].astype(str)+\"-\" +df['u_po_line'].astype(str)   \n",
    "df1=pd.merge( left=df1, right=res, how='left', on='PO-Line')\n",
    "df1.to_excel('{}/ValuesPO_Lines.xlsx'.format(path))\n",
    "\n",
    "df2=df[pd.isna(df['u_po_line'])]\n",
    "df2['u_po_number_text']=df2['u_po_number_text'].astype(str)\n",
    "df2=pd.merge( left=res, right=df2, how='left', left_on='PO Num', right_on='u_po_number_text')\n",
    "df2=df2[~pd.isna(df2['u_po_number_text'])]\n",
    "df2.to_excel('{}/ValuesPOs.xlsx'.format(path))"
   ]
  },
  {
   "cell_type": "code",
   "execution_count": 10,
   "id": "3f733c36",
   "metadata": {},
   "outputs": [
    {
     "data": {
      "text/plain": [
       "233"
      ]
     },
     "execution_count": 10,
     "metadata": {},
     "output_type": "execute_result"
    }
   ],
   "source": [
    "len(res)"
   ]
  },
  {
   "cell_type": "code",
   "execution_count": 12,
   "id": "7ccf80e3",
   "metadata": {},
   "outputs": [],
   "source": [
    "res.to_excel('{}/ValuesSCs.xlsx'.format(path))"
   ]
  },
  {
   "cell_type": "code",
   "execution_count": null,
   "id": "891d0444",
   "metadata": {},
   "outputs": [],
   "source": []
  }
 ],
 "metadata": {
  "kernelspec": {
   "display_name": "Python 3 (ipykernel)",
   "language": "python",
   "name": "python3"
  },
  "language_info": {
   "codemirror_mode": {
    "name": "ipython",
    "version": 3
   },
   "file_extension": ".py",
   "mimetype": "text/x-python",
   "name": "python",
   "nbconvert_exporter": "python",
   "pygments_lexer": "ipython3",
   "version": "3.9.7"
  }
 },
 "nbformat": 4,
 "nbformat_minor": 5
}
