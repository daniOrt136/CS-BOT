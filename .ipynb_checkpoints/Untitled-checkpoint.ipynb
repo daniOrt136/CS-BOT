{
 "cells": [
  {
   "cell_type": "code",
   "execution_count": 33,
   "id": "9021ceaf",
   "metadata": {},
   "outputs": [],
   "source": [
    "import pyhdb\n",
    "import datetime\n",
    "from datetime import timedelta\n",
    "import pandas as pd\n",
    "from openpyxl.styles import Font, Color, PatternFill, Protection, Alignment, Border, Side\n",
    "from openpyxl.worksheet.datavalidation import DataValidation\n",
    "import os\n",
    "import openpyxl as xl\n",
    "\n",
    "\n",
    "path = 'C:/Development/Automation-tools/SC-CUSBot/'\n",
    "\n",
    "#Reading external files\n",
    "df= pd.read_excel('{}/sn_customerservice_case.xlsx'.format(path),engine='openpyxl')\n",
    "\n"
   ]
  },
  {
   "cell_type": "code",
   "execution_count": 34,
   "id": "5f2e300c",
   "metadata": {},
   "outputs": [],
   "source": [
    "for i, row in df.iterrows():\n",
    "    if ',' in str(row['u_po_line']):\n",
    "        lines=str(row['u_po_line']).split(',')\n",
    "        for j in range(0,len(lines)):\n",
    "            if j>0:\n",
    "                df = df.append({'number': row['number'], 'short_description': row['short_description'],'contact': row['contact'],'u_supplier_name_case': row['u_supplier_name_case'],\n",
    "                               'u_po_number_text': row['u_po_number_text'],'u_po_line': lines[j].strip(),'assigned_to': row['assigned_to'],'assignment_group': row['assignment_group'],\n",
    "                               'u_catalog_item': row['u_catalog_item'],'u_sub_case_type': row['u_sub_case_type'],'sys_created_on': row['sys_created_on'],'sys_created_by': row['sys_created_by'],\n",
    "                               'u_po_geounit': row['u_po_geounit'],'u_po_geounit_country': row['u_po_geounit_country'],'resolved_at': row['resolved_at'],'impact': row['impact'],}, ignore_index=True)\n",
    "            else:\n",
    "                df.at[i,'u_po_line']=lines[j].strip()"
   ]
  },
  {
   "cell_type": "code",
   "execution_count": 35,
   "id": "60caf407",
   "metadata": {},
   "outputs": [],
   "source": [
    "pos =df['u_po_number_text'].to_string(index=False).split('\\n')\n",
    "pos = list(set(pos))\n",
    "pos1 = [x.strip(' ') for x in pos]\n",
    "poString =\"('\"+ \"', '\".join(pos1)+\"')\"\n",
    "\n",
    "#from hdbcli import dbapiGive\n",
    "from hdbcli import dbapi\n",
    "connection = dbapi.connect(address=\"sapw1pdb00.dir.slb.com\",port=30015, user=\"LABOT\", password=\"kC-mcLArs8b3E\")\n",
    "#connection = pyhdb.connect(host=\"sapw1pdb00.dir.slb.com\",port=30015, user=\"LABOT\",password=\"kC-mcLArs8b3E\")\n",
    "cursor = connection.cursor()\n",
    "query=\"SELECT EBELN AS PO_Num, EBELP AS PO_Line, \"\n",
    "query= query + \"NETWR, WAERS \"\n",
    "query= query + \"FROM \\\"_SYS_BIC\\\".\\\"slb.bi.sup.sdi/SUP_STG_PO_END_TO_END_INTEGRATION\\\" \"\n",
    "query= query + \"WHERE EBELN IN \" + poString\n",
    "cursor.execute(query)\n",
    "MyList=(cursor.fetchall())\n",
    "res = pd.DataFrame(MyList)\n",
    "res = res.rename(columns={\n",
    "    0:'PO Num',\n",
    "    1:'PO Line',\n",
    "    2:'Value',\n",
    "    3:'Currency'})\n",
    "res['PO Line'] = res['PO Line'].astype(int).astype(str)\n",
    "res['PO-Line']= res['PO Num'].astype(str)+\"-\" +res['PO Line'].astype(str)    \n",
    "res = res.drop_duplicates(subset='PO-Line')"
   ]
  },
  {
   "cell_type": "code",
   "execution_count": 36,
   "id": "cb45619d",
   "metadata": {},
   "outputs": [
    {
     "name": "stderr",
     "output_type": "stream",
     "text": [
      "C:\\Users\\DOrtiz10\\AppData\\Local\\Temp/ipykernel_17888/177621821.py:2: SettingWithCopyWarning: \n",
      "A value is trying to be set on a copy of a slice from a DataFrame.\n",
      "Try using .loc[row_indexer,col_indexer] = value instead\n",
      "\n",
      "See the caveats in the documentation: https://pandas.pydata.org/pandas-docs/stable/user_guide/indexing.html#returning-a-view-versus-a-copy\n",
      "  df1['PO-Line']=df['u_po_number_text'].astype(str)+\"-\" +df['u_po_line'].astype(str)\n",
      "C:\\Users\\DOrtiz10\\AppData\\Local\\Temp/ipykernel_17888/177621821.py:7: SettingWithCopyWarning: \n",
      "A value is trying to be set on a copy of a slice from a DataFrame.\n",
      "Try using .loc[row_indexer,col_indexer] = value instead\n",
      "\n",
      "See the caveats in the documentation: https://pandas.pydata.org/pandas-docs/stable/user_guide/indexing.html#returning-a-view-versus-a-copy\n",
      "  df2['u_po_number_text']=df2['u_po_number_text'].astype(str)\n"
     ]
    }
   ],
   "source": [
    "df1=df[~pd.isna(df['u_po_line'])]\n",
    "df1['PO-Line']=df['u_po_number_text'].astype(str)+\"-\" +df['u_po_line'].astype(str)   \n",
    "df1=pd.merge( left=df1, right=res, how='left', on='PO-Line')\n",
    "df1.to_excel('{}/ValuesPO_Lines.xlsx'.format(path))\n",
    "\n",
    "df2=df[pd.isna(df['u_po_line'])]\n",
    "df2['u_po_number_text']=df2['u_po_number_text'].astype(str)\n",
    "df2=pd.merge( left=res, right=df2, how='left', left_on='PO Num', right_on='u_po_number_text')\n",
    "df2=df2[~pd.isna(df2['u_po_number_text'])]\n",
    "df2.to_excel('{}/ValuesPOs.xlsx'.format(path))"
   ]
  },
  {
   "cell_type": "code",
   "execution_count": null,
   "id": "3f733c36",
   "metadata": {},
   "outputs": [],
   "source": []
  }
 ],
 "metadata": {
  "kernelspec": {
   "display_name": "Python 3 (ipykernel)",
   "language": "python",
   "name": "python3"
  },
  "language_info": {
   "codemirror_mode": {
    "name": "ipython",
    "version": 3
   },
   "file_extension": ".py",
   "mimetype": "text/x-python",
   "name": "python",
   "nbconvert_exporter": "python",
   "pygments_lexer": "ipython3",
   "version": "3.9.7"
  }
 },
 "nbformat": 4,
 "nbformat_minor": 5
}
