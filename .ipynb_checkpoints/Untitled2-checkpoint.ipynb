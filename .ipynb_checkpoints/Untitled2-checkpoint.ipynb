{
 "cells": [
  {
   "cell_type": "code",
   "execution_count": 4,
   "id": "d0634626",
   "metadata": {},
   "outputs": [
    {
     "ename": "Error",
     "evalue": "(258, \"insufficient privilege: Detailed info for this error can be found with guid '7CAF42C960E92242A4F65B606BDD1674'\")",
     "output_type": "error",
     "traceback": [
      "\u001b[1;31m---------------------------------------------------------------------------\u001b[0m",
      "\u001b[1;31mError\u001b[0m                                     Traceback (most recent call last)",
      "\u001b[1;32m~\\AppData\\Local\\Temp/ipykernel_19008/2421428170.py\u001b[0m in \u001b[0;36m<module>\u001b[1;34m\u001b[0m\n\u001b[0;32m     17\u001b[0m \u001b[0mquery\u001b[0m\u001b[1;33m=\u001b[0m \u001b[0mquery\u001b[0m \u001b[1;33m+\u001b[0m \u001b[1;34m\"WHERE SHIPMENT_DOC='0000001553' \"\u001b[0m\u001b[1;33m\u001b[0m\u001b[1;33m\u001b[0m\u001b[0m\n\u001b[0;32m     18\u001b[0m \u001b[1;33m\u001b[0m\u001b[0m\n\u001b[1;32m---> 19\u001b[1;33m \u001b[0mcursor\u001b[0m\u001b[1;33m.\u001b[0m\u001b[0mexecute\u001b[0m\u001b[1;33m(\u001b[0m\u001b[0mquery\u001b[0m\u001b[1;33m)\u001b[0m\u001b[1;33m\u001b[0m\u001b[1;33m\u001b[0m\u001b[0m\n\u001b[0m\u001b[0;32m     20\u001b[0m \u001b[1;33m\u001b[0m\u001b[0m\n\u001b[0;32m     21\u001b[0m \u001b[0mMyList\u001b[0m\u001b[1;33m=\u001b[0m\u001b[1;33m(\u001b[0m\u001b[0mcursor\u001b[0m\u001b[1;33m.\u001b[0m\u001b[0mfetchall\u001b[0m\u001b[1;33m(\u001b[0m\u001b[1;33m)\u001b[0m\u001b[1;33m)\u001b[0m\u001b[1;33m\u001b[0m\u001b[1;33m\u001b[0m\u001b[0m\n",
      "\u001b[1;31mError\u001b[0m: (258, \"insufficient privilege: Detailed info for this error can be found with guid '7CAF42C960E92242A4F65B606BDD1674'\")"
     ]
    }
   ],
   "source": [
    "import pyhdb\n",
    "import datetime\n",
    "from datetime import timedelta\n",
    "import pandas as pd\n",
    "from openpyxl.styles import Font, Color, PatternFill, Protection, Alignment, Border, Side\n",
    "from openpyxl.worksheet.datavalidation import DataValidation\n",
    "import os\n",
    "import openpyxl as xl\n",
    "DEBUG = False\n",
    "\n",
    "from hdbcli import dbapi\n",
    "connection = dbapi.connect(address=\"sapw1pdb00.dir.slb.com\",port=30015, user=\"LABOT\", password=\"kC-mcLArs8b3E\")\n",
    "\n",
    "#connection = pyhdb.connect(host=\"sapw1pdb00.dir.slb.com\",port=30015, user=\"LABOT\",password=\"kC-mcLArs8b3E\")\n",
    "cursor = connection.cursor()\n",
    "query=\"SELECT * FROM \\\"_SYS_BIC\\\".\\\"slb.bi.sup.ss/SUP_SS_STG_DISTRIBUTION_REPORT\\\"  \"\n",
    "query= query + \"WHERE SHIPMENT_DOC='0000001553' \"\n",
    "\n",
    "cursor.execute(query)\n",
    "         \n",
    "MyList=(cursor.fetchall())\n",
    "\n",
    "df = pd.DataFrame(MyList)\n",
    "df"
   ]
  },
  {
   "cell_type": "code",
   "execution_count": null,
   "id": "50947eb8",
   "metadata": {},
   "outputs": [],
   "source": [
    "STG_SUP_SDI_DISTRIBUTION_REPORT"
   ]
  }
 ],
 "metadata": {
  "kernelspec": {
   "display_name": "Python 3 (ipykernel)",
   "language": "python",
   "name": "python3"
  },
  "language_info": {
   "codemirror_mode": {
    "name": "ipython",
    "version": 3
   },
   "file_extension": ".py",
   "mimetype": "text/x-python",
   "name": "python",
   "nbconvert_exporter": "python",
   "pygments_lexer": "ipython3",
   "version": "3.9.7"
  }
 },
 "nbformat": 4,
 "nbformat_minor": 5
}
