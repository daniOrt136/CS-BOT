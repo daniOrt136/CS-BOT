{
 "cells": [
  {
   "cell_type": "code",
   "execution_count": 26,
   "id": "eddc3d85",
   "metadata": {},
   "outputs": [
    {
     "name": "stdout",
     "output_type": "stream",
     "text": [
      "List of Names:  ['9000143641_6', '9000094143_3', '9000050582_4', '9000050582_3', '9000050582_5', '9000050582_1', '4581149385_1', '4580992257_1', '4790651272_3', '4580372278_8', '4581098108_1', '4581111930_1', '4581111930_2']\n",
      "List of GIN:  [6431977, 6242127, 5665732, 5665732, 5665732, 5665732, 6595094, 3801362, 4812616, 6595094, 3673357, 80000377, 80000377]\n"
     ]
    }
   ],
   "source": [
    "import pandas as pd\n",
    "import openpyxl as xl\n",
    "path = 'C:/Development/Automation-tools/SC-CUSBOT Scripts/'# cambiar a D:/Development/Automation-tools/SC-CUSBOT/\n",
    "zzgr= pd.read_excel('{}Report/Notification/ZZGRNOT.xlsx'.format(path))\n",
    "numLines=len(zzgr)\n",
    "zzgr['PO_Line']=zzgr[\"PO Num\"].apply(str)+\"_\"+zzgr[\"PO Line\"].apply(str)\n",
    "POLines = zzgr['PO_Line'].to_list()\n",
    "GINs = zzgr['Requester GIN'].to_list()\n",
    "print('List of Names: ', POLines)\n",
    "print('List of GIN: ', GINs)"
   ]
  },
  {
   "cell_type": "code",
   "execution_count": null,
   "id": "2e9067e1",
   "metadata": {},
   "outputs": [],
   "source": [
    "\n",
    "\n",
    "\n",
    "\n",
    "#con = pymysql.connect(host=\"localhost\", user=\"myuser\", passwd=\"mypass\", db=\"test\")\n",
    "#cursor = con.cursor()\n",
    "values_to_insert = [(1, 2, 'a'), (3, 4, 'b'), (5, 6, 'c')]\n",
    "query = \"INSERT INTO tab (col1, col2, col3) VALUES \" + \",\".join(\"(%s, %s, %s)\" for _ in values_to_insert)\n",
    "flattened_values = [item for sublist in values_to_insert for item in sublist]\n",
    "cursor.execute(query, flattened_values)\n",
    "\n",
    "con.commit()\n",
    "\n",
    "for line in ZZGR.rows:\n",
    "    \n",
    "    "
   ]
  }
 ],
 "metadata": {
  "kernelspec": {
   "display_name": "Python 3 (ipykernel)",
   "language": "python",
   "name": "python3"
  },
  "language_info": {
   "codemirror_mode": {
    "name": "ipython",
    "version": 3
   },
   "file_extension": ".py",
   "mimetype": "text/x-python",
   "name": "python",
   "nbconvert_exporter": "python",
   "pygments_lexer": "ipython3",
   "version": "3.9.7"
  }
 },
 "nbformat": 4,
 "nbformat_minor": 5
}
